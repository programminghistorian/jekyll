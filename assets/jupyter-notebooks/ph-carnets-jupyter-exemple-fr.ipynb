{
 "cells": [
  {
   "cell_type": "markdown",
   "metadata": {},
   "source": [
    "# Nettoyage de données\n",
    "Un exemple d'un carnet Jupyter conçu pour un hypothétique usage en classe, dans le cadre de la leçon du *Programming Historian* portant sur les carnets Jupyter. Par Quinn Dombrowski, Tassie Gniady et David Kloster."
   ]
  },
  {
   "cell_type": "markdown",
   "metadata": {},
   "source": [
    "## Qu'est-ce que le nettoyage de données?\n",
    "Si vous souhaitez utiliser un ordinateur pour réaliser une analyse de données, de quelque nature que ce soit, vous devrez vous assurer que vos données soient *propres*, c'est-à-dire d'un format constant qui suit des conventions intelligibles pour l'ordinateur. Par exemple, si vous comptez à l'oeil toutes les mentions de chats dans un texte, vous n'hésiterez probablement pas à inclure \"chat\", \"Chat\", \"chats\", \"Chat--\" et \"chat.\" dans votre décompte. Et selon la question de recherche à laquelle vous souhaitez répondre, il n'est pas impossible que vous ajoutiez aussi \"minou\", \"minet\", \"chaton\" et \"félin\".\n",
    "\n",
    "Confier une tâche pareille à un être humain pourrait prendre beaucoup de temps, surtout si le texte à analyser est long, mais vous pouvez raisonnablement vous attendre à ce que la personne en charge prenne tout ce vocabulaire en compte en effectuant le travail, surtout si vous demandez de compter \"tous les mots qui font référence à des chats.\" Mais les ordinateurs n'interprètent pas les textes de la même façon que les êtres humains et ils n'ont pas non plus la même compréhension du concept de \"chat\". Il serait sans doute possible de faire en sorte que l'ordinateur effectue un décompte similaire à celui d'un être humain dans ce contexte, mais il faudrait d'abord modifier le texte pour éviter que l'ordinateur ne soit confondu par les variations mineures (comme la présence de majuscules ou de ponctuation) qu'un être humain n'aurait aucun mal à gérer implicitement.\n",
    "\n",
    "Même lorsque toutes vos données sont dans un format cohérent, certaines questions de recherche peuvent exiger que ce format soit transformé avant l'analyse. L'exemple suivant provient d'un projet de recherche portant sur la fiction rédigée par des fans de *Harry Potter* dans une variété de langues et de cultures."
   ]
  },
  {
   "cell_type": "markdown",
   "metadata": {},
   "source": [
    "## Les données\n",
    "Les données avec lesquelles nous travaillerons ont été saisies sur l'archive italienne de fictions de fan efpfanfic.net. Chacune des lignes du fichier contient une évaluation du texte de fiction (similaire à la note accordée à un film), qui peut être *verde* (vert), *giallo* (jaune), *arancione* (orange) ou *rosso* (rouge), en plus de la date de publication initiale du texte et de la date de sa plus récente modification. Nous aurions aussi pu saisir d'autres informations au sujet de chaque texte, dont son titre, son URL, son auteur, l'URL de la page de l'auteur, son genre, ses personnages et une description générale de son contenu, mais les trois éléments d'information que nous avons inclus dans le fichier de données suffisent à explorer un certain nombre de questions de recherche. "
   ]
  },
  {
   "cell_type": "markdown",
   "metadata": {},
   "source": [
    "## Les orientations de la recherche\n",
    "Les données avec lesquelles nous travaillerons -- à savoir l'évaluation, la date de publication et la date de mise à jour -- peuvent servir à trouver les réponses à des questions comme:\n",
    "\n",
    "- Quelles sont les tendances, s'il y en a, qui gouvernent *le moment* où les fans publient de la fiction?\n",
    "- Les tendances observées sont-elles les mêmes pour des textes qui reçoivent des évaluations différentes?\n",
    "- Que peut-on observer au sujet des intervalles de temps qui s'écoulent entre la publication et la modification des textes? À noter que, pour interpréter ces mesures, il nous faudrait peut-être d'autres informations, par exemple sur la longueur des textes.\n",
    "- Les observations sont-elles constantes dans le temps ou changent-elles au fil des années?"
   ]
  },
  {
   "cell_type": "markdown",
   "metadata": {},
   "source": [
    "## Format d'enregistrement des dates\n",
    "Les dates de publication et de mise à jour que nous avons saisies dans l'archive de textes de fiction ont été enregistrées en format *jour/mois/année*. Afin de répondre aux questions que nous nous posons au sujet des jours de la semaine, nous devrons d'abord convertir les dates dont nous disposons en jours de la semaine.\n",
    "\n",
    "<div class=\"alert alert-warning\"><strong>Première activité de groupe:</strong>\n",
    "\n",
    "En équipe avec les personnes qui partagent votre table, trouvez le jour de la semaine associé à la date du 11/3/14.</div>\n",
    "\n",
    "Maintenant que vous avez converti une date, calculons le temps qu'il faudrait pour en convertir plusieurs!\n",
    "\n",
    "<div class=\"alert alert-warning\"><strong>Deuxième activité de groupe:</strong>\n",
    "\n",
    "Choisissez une personne à votre table qui sera responsable du chronomètre. Les autres devront convertir, individuellement et sans se consulter, les dates qui font partie de la liste suivante. Le chronométreur devra mesurer le temps dont chaque personne aura besoin et le temps moyen requis par l'ensemble des membres de l'équipe. Ne faites pas la course et ne vous laissez pas distraire par la navigation sur d'autres sites Web; travaillez à un rythme que vous seriez, selon vous, capable de soutenir pendant une heure.\n",
    "    \n",
    "<ul>\n",
    "    <li>11/3/14</li>\n",
    "    <li>7/6/14</li>\n",
    "    <li>7/6/14</li>\n",
    "    <li>27/06/11</li>\n",
    "    <li>15/02/11</li>\n",
    "    <li>2/11/10</li>\n",
    "    <li>3/11/10</li>\n",
    "    <li>20/10/10</li>\n",
    "    <li>27/08/09</li>\n",
    "    <li>30/08/09</li>\n",
    "    <li>27/12/08</li>\n",
    "    <li>2/12/08</li>\n",
    "    <li>16/06/08</li>\n",
    "    <li>22/11/08</li>\n",
    "    <li>30/01/07</li>\n",
    "    <li>16/10/08</li>\n",
    "    <li>6/9/08</li>\n",
    "    <li>3/10/08</li>\n",
    "    <li>7/9/08</li>\n",
    "    <li>26/07/07</li>\n",
    "</ul>\n",
    "    </div>\n",
    "\n",
    "Avant d'aller plus loin, comparez les réponses que vous avez compilées pour chacune des vingt dates avec celles des autres membres de l'équipe. Si les résultats ne concordent pas, retracez vos pas ensemble pour déterminer la source du désaccord.\n",
    "\n",
    "<div class=\"alert alert-warning\"><strong>Troisième activité de groupe:</strong>\n",
    "\n",
    "Prenez deux minutes pour penser au nombre de dates que vous accepteriez de convertir de cette façon.\n",
    "    \n",
    "- Ce nombre serait-il différent si vous receviez un salaire (au taux horaire moyen des auxiliaires de recherche étudiants de votre université)?\n",
    "- Et s'il s'agissait de votre propre projet de recherche mais que vous deviez travailler bénévolement?\n",
    "- En vous fiant au temps moyen dont les membres de votre équipe ont eu besoin pour convertir 20 dates, combien devriez-vous débourser, en tant que responsable d'un projet de recherche hypothétique, pour engager des étudiants au taux moyen des auxiliaires de recherche de votre université et leur confier la conversion de 112 286 dates?\n",
    "- En tant que responsable d'un projet de recherche, quel est le montant maximal que vous seriez prêt(e) à payer pour répondre à des questions de recherche qui exigent que des dates soient converties de cette façon?\n",
    "\n",
    "Écrivez vos réponses et discutez-en avec les autres membres de votre équipe.</div>"
   ]
  },
  {
   "cell_type": "markdown",
   "metadata": {},
   "source": [
    "## Rédiger du code\n",
    "Bien que certains projets de grande envergure aient eu recours à une quantité phénoménale de labeur manuel, parfois pendant des décennies (par exemple, plusieurs dictionnaires en langues anciennes), on n'entreprend ce genre d'effort que lorsque l'on est convaincu que le résultat aura une grande valeur aux yeux de toute une communauté disciplinaire. La simple curiosité est loin d'être suffisante pour justifier un tel investissement de temps lorsque l'on risque de ne rien trouver d'intéressant!\n",
    "\n",
    "Mais lorsqu'une tâche de conversion de données requiert peu ou pas de jugement humain, il est parfois possible de l'automatiser en rédigeant du code informatique. Les tâches répétitives (par exemple, convertir des dates stockées dans un format constant en un autre format constant, plutôt que de transformer des données de types variables en un autre type de données tout aussi variable) constituent *d'excellentes* candidates pour l'automatisation puisque rédiger du code *une fois* pourrait entraîner des bénéfices considérables.\n",
    "\n",
    "Vous trouverez ci-dessous du code capable de convertir 112 286 dates en jours de la semaine. Ce code devrait compléter la tâche en moins d'une minute (la durée exacte dépend de l'ordinateur que vous utilisez) et afficher les résultats sous le code."
   ]
  },
  {
   "cell_type": "code",
   "execution_count": 1,
   "metadata": {},
   "outputs": [],
   "source": [
    "# datetime sert à convertir une date décomposée en jour de la semaine\n",
    "import datetime\n",
    "\n",
    "# csv lit un fichier de données en format CSV ('comma-separated values', ou\n",
    "# 'valeurs séparées par des virgules'), un format courant dans les tableurs\n",
    "import csv\n",
    "\n",
    "# dateutil sert à décomposer une date en ses parties: jour, mois, année, etc.\n",
    "import dateutil"
   ]
  },
  {
   "cell_type": "code",
   "execution_count": null,
   "metadata": {},
   "outputs": [],
   "source": [
    "%%time\n",
    "# Le \"mot magique\" ci-dessus affichera le temps requis pour exécuter le code\n",
    "# de cette cellule. Faites dérouler la liste des dates converties pour voir combien\n",
    "# de temps il aura fallu pour effectuer le travail. \n",
    "\n",
    "# choisir le fichier de données à ouvrir et le nommer 'f'\n",
    "with open('ph-jupyter-notebook-example.csv') as f:\n",
    "\n",
    "    # créer un fichier de sortie, appelé 'out', dans lequel enregistrer vos résultats\n",
    "    with open('ph-jupyter-notebook-example-jours-de-semaine.csv', 'w') as out:\n",
    "\n",
    "        # 'csv_lecteur' appplique la fonction de lecture csv.reader au fichier de données\n",
    "        csv_lecteur = csv.reader(f, delimiter=',')\n",
    "\n",
    "        # 'csv_redacteur' applique la fonction d'écriture csv.writer au fichier de sortie\n",
    "        csv_redacteur = csv.writer(out)\n",
    "       \n",
    "        # Pour chaque rangée du fichier f lue par csv_lecteur...\n",
    "        for rang in csv_lecteur:\n",
    "            # Créer une liste appelée 'valeurs' contenant les éléments de la rangée\n",
    "            valeurs = list(rang)\n",
    "              \n",
    "            # L'évaluation du texte est le premier item de la liste\n",
    "            # note: en Python, on compte à partir de 0, pas de 1\n",
    "            evaluation = valeurs[0]\n",
    "            \n",
    "            # La date de publication est le deuxième item de la liste (donc le #1)\n",
    "            # on la convertit à l'aide de dateutil.parser tout en spécifiant que le\n",
    "            # jour vient en premier dans la description de la date\n",
    "            date_publication = dateutil.parser.parse(valeurs[1], dayfirst=True)\n",
    "            \n",
    "            # Même processus pour la date de mise à jour, troisième item de la liste (donc #2)\n",
    "            date_mise_a_jour = dateutil.parser.parse(values[2], dayfirst=True)\n",
    "              \n",
    "            # joursemaine_publication est le jour de publication converti \n",
    "            # %A est le code nécessaire pour afficher le jour de la semaine\n",
    "            # Vous pouvez consulter la liste des autres formats au https://docs.python.org/3/library/datetime.html#strftime-and-strptime-behavior\n",
    "            joursemaine_publication = datetime.date.strftime(date_publication, '%A')\n",
    "              \n",
    "            # Même processus pour la date de mise à jour \n",
    "            joursemaine_mise_a_jour = datetime.date.strftime(date_mise_a_jour, '%A')\n",
    "              \n",
    "            # Créer une liste contenant l'évaluation et les deux dates converties\n",
    "            valeurs_nouvelles = [evaluation, joursemaine_publication, joursemaine_mise_a_jour]\n",
    "              \n",
    "            # Et écrire les résultats dans le fichier de sortie et sous cette cellule de code\n",
    "            csv_redacteur.writerow(valeurs_nouvelles)\n",
    "            print(valeurs_nouvelles)"
   ]
  },
  {
   "cell_type": "markdown",
   "metadata": {},
   "source": [
    "## Édition de code\n",
    "Une fois que vous avez investi du labeur humain dans une tâche de nettoyage de données, il peut être très coûteux de changer d'idée au sujet du format de sortie. Lorsque vous utilisez du code, il faut parfois un peu de temps pour déterminer comment modifier le code en fonction de vos nouveaux besoins, mais une fois que vous avez trouvé la solution vous pouvez obtenir les nouveaux résultats instantanément ou presque.\n",
    "\n",
    "<div class=\"alert alert-warning\"><strong>Quatrième activité de groupe:</strong>\n",
    "\n",
    "Travaillez en équipe pour modifier le code dans la cellule ci-dessous (identique à celui de la cellule ci-dessus) pour afficher les dates dans le format suivant: \"Lundi, 01 septembre 2014\". \n",
    "\n",
    "<em>Indice:</em> commencez par fouiller dans la [documentation du module datetime](https://docs.python.org/3/library/datetime.html#strftime-and-strptime-behavior).</div>\n",
    "\n",
    "<div class=\"alert alert-warning\"><strong>Cinquième activité de groupe:</strong>\n",
    "\n",
    "Afficher des dates avec des zéros au début du numéro de jour est un peu bizarre, mais le module *datetime* de Python aime beaucoup utiliser ce genre de dates rembourrées de zéros. En équipe, cherchez sur le Web une solution qui vous permettrait d'éviter d'afficher des zéros superflus lorsque vous utilisez le module datetime de Python. Si vous trouvez une solution, essayez de l'implanter dans votre code.\n",
    "</div>"
   ]
  },
  {
   "cell_type": "markdown",
   "metadata": {},
   "source": [
    "# Nettoyage et analyse de données pour les programmeurs et programmeuses d'expérience\n",
    "Les personnes qui ont de l'expérience en programmation peuvent se regrouper en équipes pour accomplir les tâches suivantes. Vous aurez le temps de partager vos résultats avec le reste du groupe avant la fin du cours.\n",
    "\n",
    "Les tâches marquées du symbole <i class=\"fa-question-circle fa\"></i> n'ont pas encore été résolues par l'équipe de recherche. Si vous trouvez une solution, vous serez crédités en tant que collaborateurs du projet dans les publications savantes qui résulteront de ce travail.\n",
    "\n",
    "<div class=\"alert alert-warning\"><strong>Première tâche de programmation:</strong>\n",
    "\n",
    "Convertissez les dates contenues dans le fichier de données en jours de la semaine, en vous basant sur le code ci-dessus si vous le désirez. Ajoutez ensuite du code qui calcule le pourcentage des textes qui ont été publiés et modifiés le même jour de la semaine.\n",
    "</div>\n",
    "\n",
    "<div class=\"alert alert-warning\"><strong>Deuxième tâche de programmation:</strong>\n",
    "\n",
    "Y a-t-il quelque chose d'étonnant dans les résultats de la tâche précédente? Pourquoi obtenez-vous ces résultats, selon vous? Devriez-vous modifier votre code? *(Indice: il pourrait être intéressant de vérifier l'intervalle typique entre la date de publication et la date de modification d'un texte.)*\n",
    "    \n",
    "</div>\n",
    "\n",
    "<div class=\"alert alert-warning\"><strong>Troisième tâche de programmation:</strong>\n",
    "\n",
    "Quel pourcentage des textes de fiction, classés en fonction de leurs évaluations, sont publiés lors de chacun des jours de la semaine? Par exemple: \"Rosso: 10% le lundi, 23% le mardi...\", etc.\n",
    "    \n",
    "</div>\n",
    "\n",
    "<div class=\"alert alert-warning\"><strong>Quatrième tâche de programmation:</strong>\n",
    "\n",
    "Globalement, quel pourcentage des textes sont publiés <em>ou mis à jour</em> le dimanche? Est-ce que l'activité est plus élevée, moins élevée ou similaire les dimanches de Pâques par rapport aux dimanches ordinaires?\n",
    "</div>\n",
    "\n",
    "<div class=\"alert alert-warning\"><i class=\"fa-question-circle fa\"></i><strong>Cinquième tâche de programmation:</strong>\n",
    "\n",
    "Refaites les calculs précédents en séparant les résultats sur la base de l'année de publication (2003 à 2019). Est-ce que les résultats sont similaires d'année en année ou remarquez-vous des changements au fil du temps?\n",
    "</div>"
   ]
  }
 ],
 "metadata": {
  "kernelspec": {
   "display_name": "Python 3",
   "language": "python",
   "name": "python3"
  },
  "language_info": {
   "codemirror_mode": {
    "name": "ipython",
    "version": 3
   },
   "file_extension": ".py",
   "mimetype": "text/x-python",
   "name": "python",
   "nbconvert_exporter": "python",
   "pygments_lexer": "ipython3",
   "version": "3.7.4"
  }
 },
 "nbformat": 4,
 "nbformat_minor": 4
}
