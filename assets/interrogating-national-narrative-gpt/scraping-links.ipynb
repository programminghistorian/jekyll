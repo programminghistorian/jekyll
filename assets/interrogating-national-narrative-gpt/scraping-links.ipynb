{
 "cells": [
  {
   "cell_type": "code",
   "execution_count": 1,
   "id": "c3e1b026",
   "metadata": {},
   "outputs": [],
   "source": [
    "import requests\n",
    "from bs4 import BeautifulSoup\n",
    "\n",
    "import lxml\n",
    "import lxml.etree"
   ]
  },
  {
   "cell_type": "code",
   "execution_count": 28,
   "id": "12e58b09",
   "metadata": {},
   "outputs": [
    {
     "name": "stdout",
     "output_type": "stream",
     "text": [
      "4107\n"
     ]
    }
   ],
   "source": [
    "all_links = []\n",
    "\n",
    "def pagination(pg_num):\n",
    "    \n",
    "    url = \"https://www.webarchive.org.uk/en/ukwa/collection/912?page=\" + str(pg_num)\n",
    "\n",
    "    response = requests.get(str(url))\n",
    "\n",
    "    data = response.text\n",
    "\n",
    "    soup = BeautifulSoup(data, 'lxml')\n",
    "\n",
    "    links = soup.find_all('a', {'class': 'break-all'})\n",
    "\n",
    "    counter = 0\n",
    "\n",
    "    for i in links:\n",
    "        i = i.get_text()\n",
    "        all_links.append(i)\n",
    "        \n",
    "    if pg_num < 84:\n",
    "        pg_num = pg_num + 1\n",
    "        pagination(pg_num)\n",
    "    \n",
    "\n",
    "pagination(1)"
   ]
  },
  {
   "cell_type": "code",
   "execution_count": 39,
   "id": "022348bb",
   "metadata": {},
   "outputs": [],
   "source": [
    "for i in all_links:\n",
    "    file = open(\"urls.txt\", \"a\")\n",
    "    file.write(i + \"\\n\")\n",
    "    file.close() "
   ]
  },
  {
   "cell_type": "code",
   "execution_count": null,
   "id": "61af7865",
   "metadata": {},
   "outputs": [],
   "source": [
    "# for cleaning articles\n",
    "for data in soup(['style', 'script']):\n",
    "    data.decompose()\n",
    "\n",
    "all_text = ' '.join(soup.stripped_strings)"
   ]
  },
  {
   "cell_type": "code",
   "execution_count": null,
   "id": "47d49cf3",
   "metadata": {},
   "outputs": [],
   "source": []
  }
 ],
 "metadata": {
  "kernelspec": {
   "display_name": "Python 3.9.12 64-bit",
   "language": "python",
   "name": "python3"
  },
  "language_info": {
   "codemirror_mode": {
    "name": "ipython",
    "version": 3
   },
   "file_extension": ".py",
   "mimetype": "text/x-python",
   "name": "python",
   "nbconvert_exporter": "python",
   "pygments_lexer": "ipython3",
   "version": "3.9.12"
  },
  "vscode": {
   "interpreter": {
    "hash": "aee8b7b246df8f9039afb4144a1f6fd8d2ca17a180786b69acc140d282b71a49"
   }
  }
 },
 "nbformat": 4,
 "nbformat_minor": 5
}
